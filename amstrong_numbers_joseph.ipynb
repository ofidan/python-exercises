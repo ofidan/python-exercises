{
 "cells": [
  {
   "cell_type": "code",
   "execution_count": null,
   "metadata": {},
   "outputs": [],
   "source": []
  },
  {
   "cell_type": "code",
   "execution_count": 1,
   "metadata": {},
   "outputs": [
    {
     "output_type": "stream",
     "name": "stdout",
     "text": "Please enter a positive int number!\n371 is an Amstrong Number.\n"
    }
   ],
   "source": [
    "while True:\n",
    "     number = input(\"Enter a positive Number:\")\n",
    "     digits = len(number)\n",
    "     summ = 0\n",
    "     if (\",\" in number) or (\".\" in number) :\n",
    "         print(\"Please enter a positive int number!\")\n",
    "\n",
    "     elif not number.isdigit() :\n",
    "         print(\"Do not use non-numeric or negative values!\")  \n",
    "\n",
    "     elif int(number) >= 0:\n",
    "         for i in range(digits):\n",
    "             summ += int(number[i]) ** digits\n",
    "         if summ == int(number):\n",
    "             print(number, \"is an Amstrong Number.\")             \n",
    "             break\n",
    "         else:\n",
    "             print(number, \"is not an Amstrong Number.\")\n",
    "             break"
   ]
  },
  {
   "cell_type": "code",
   "execution_count": null,
   "metadata": {},
   "outputs": [],
   "source": []
  }
 ],
 "metadata": {
  "language_info": {
   "codemirror_mode": {
    "name": "ipython",
    "version": 3
   },
   "file_extension": ".py",
   "mimetype": "text/x-python",
   "name": "python",
   "nbconvert_exporter": "python",
   "pygments_lexer": "ipython3",
   "version": "3.8.2-final"
  },
  "orig_nbformat": 2,
  "kernelspec": {
   "name": "python38232bitb9af909fc8094453b223e69a697c3c66",
   "display_name": "Python 3.8.2 32-bit"
  }
 },
 "nbformat": 4,
 "nbformat_minor": 2
}