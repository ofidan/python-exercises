{
 "cells": [
  {
   "cell_type": "code",
   "execution_count": 1,
   "metadata": {},
   "outputs": [
    {
     "output_type": "stream",
     "name": "stdout",
     "text": "25 is not a prime number\n"
    }
   ],
   "source": [
    "n=int(input('Enter a number to check if it is a prime number : '))\n",
    "count=0\n",
    "for i in range(1, n+1):\n",
    "    if n%i==0 : count += 1\n",
    "    else : count += 0\n",
    "if (n == 0) or (n == 1): print(n, \"is not a prime number\")\n",
    "elif count < 3: print(n, \"is a prime number\")\n",
    "else : print(n, \"is not a prime number\")"
   ]
  },
  {
   "cell_type": "code",
   "execution_count": null,
   "metadata": {},
   "outputs": [],
   "source": []
  }
 ],
 "metadata": {
  "language_info": {
   "codemirror_mode": {
    "name": "ipython",
    "version": 3
   },
   "file_extension": ".py",
   "mimetype": "text/x-python",
   "name": "python",
   "nbconvert_exporter": "python",
   "pygments_lexer": "ipython3",
   "version": "3.8.2-final"
  },
  "orig_nbformat": 2,
  "kernelspec": {
   "name": "python38232bitb9af909fc8094453b223e69a697c3c66",
   "display_name": "Python 3.8.2 32-bit"
  }
 },
 "nbformat": 4,
 "nbformat_minor": 2
}